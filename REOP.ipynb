{
  "nbformat": 4,
  "nbformat_minor": 0,
  "metadata": {
    "colab": {
      "provenance": [],
      "include_colab_link": true
    },
    "kernelspec": {
      "name": "python3",
      "display_name": "Python 3"
    },
    "language_info": {
      "name": "python"
    }
  },
  "cells": [
    {
      "cell_type": "markdown",
      "metadata": {
        "id": "view-in-github",
        "colab_type": "text"
      },
      "source": [
        "<a href=\"https://colab.research.google.com/github/stefaniemoara/dojo-clean-code/blob/master/REOP.ipynb\" target=\"_parent\"><img src=\"https://colab.research.google.com/assets/colab-badge.svg\" alt=\"Open In Colab\"/></a>"
      ]
    },
    {
      "cell_type": "code",
      "source": [
        "# !pip install gurobipy\n",
        "import json\n",
        "from gurobipy import Model, GRB\n",
        "\n",
        "# Parse the JSON data\n",
        "f = open('/KIRO-tiny.json')\n",
        "data = json.load(f)\n",
        "params = data[\"parameters\"]\n",
        "nb_jobs = params[\"size\"][\"nb_jobs\"]\n",
        "nb_tasks = params[\"size\"][\"nb_tasks\"]\n",
        "nb_machines = params[\"size\"][\"nb_machines\"]\n",
        "nb_operators = params[\"size\"][\"nb_operators\"]\n",
        "unit_penalty = params[\"costs\"][\"unit_penalty\"]\n",
        "tardiness = params[\"costs\"][\"tardiness\"]\n",
        "jobs = data[\"jobs\"]\n",
        "tasks = data[\"tasks\"]\n",
        "\n",
        "# Create a Gurobi model\n",
        "model = Model()\n",
        "\n",
        "# Add decision variables\n",
        "start = {} # starting time of each task\n",
        "assign_machine = {} # assignment of tasks to machines\n",
        "assign_operator = {} # assignment of tasks to operators\n",
        "for i in range(nb_tasks):\n",
        "    start[i] = model.addVar(vtype=GRB.INTEGER, name=\"start_task_{}\".format(i))\n",
        "    for m in range(nb_machines):\n",
        "        assign_machine[i, m] = model.addVar(vtype=GRB.BINARY, name=\"assign_task_{}_to_machine_{}\".format(i, m))\n",
        "    for o in range(nb_operators):\n",
        "        assign_operator[i, o] = model.addVar(vtype=GRB.BINARY, name=\"assign_task_{}_to_operator_{}\".format(i, o))\n",
        "\n",
        "# Define binary variable y\n",
        "y = model.addVar(vtype=GRB.BINARY)\n",
        "\n",
        "# Define binary variable y\n",
        "x = model.addVar(vtype=GRB.BINARY)\n",
        "\n",
        "\n",
        "# Add the objective function\n",
        "obj = 0\n",
        "# print (tasks)\n",
        "#for j in range(nb_jobs):\n",
        "    # Compute completion time of job j\n",
        "#    completion_time = 0\n",
        "#    sequence = jobs[j][\"sequence\"]\n",
        "#    for i in sequence:\n",
        "#      completion_time += tasks[i][\"processing_time\"]\n",
        "for j in range(nb_jobs):\n",
        "    # Compute completion time of job j\n",
        "    completion_time = 0\n",
        "    sequence = jobs[j][\"sequence\"]\n",
        "    for i in sequence:\n",
        "      if i < len(tasks):\n",
        "        completion_time += tasks[i][\"processing_time\"]\n",
        "    completion_time += start[sequence[0]]\n",
        "    # Compute tardiness of job\n",
        "    # Define tardiness_time as a linear function of y\n",
        "    tardiness_time = y * (completion_time - jobs[j][\"due_date\"])\n",
        "    # Compute unit penalty for job\n",
        "    unit_penalty_time = y\n",
        "    # Add weighted values to the objective function\n",
        "    weight = jobs[j][\"weight\"]\n",
        "    obj += weight * (completion_time + unit_penalty * unit_penalty_time + tardiness * tardiness_time)\n",
        "\n",
        "# Set the objective of the model\n",
        "model.setObjective(obj, sense=GRB.MINIMIZE)\n",
        "\n",
        "# Add constraints\n",
        "for i in range(nb_tasks):\n",
        "    # Constraint on completion time of task i\n",
        "  model.addConstr(start[i] + completion_time[i] + tasks[i][\"processing_time\"] == completion_time[i])\n",
        "\n",
        "# Add constraints\n",
        "for j in range(nb_jobs):\n",
        "    # Constraint on starting time of job j\n",
        "  sequence = jobs[j][\"sequence\"]\n",
        "  model.addConstr(start[sequence[0]] == job_start[j], name=\"start_time_job_{}\".format(j))\n",
        "\n",
        "# Define constraint on y\n",
        "model.addConstr(y == 0 or y == 1)\n",
        "\n",
        "# Define constraint on x\n",
        "model.addConstr(x == 0 or x == 1)"
      ],
      "metadata": {
        "id": "0LS5CYJoos4p",
        "colab": {
          "base_uri": "https://localhost:8080/",
          "height": 235
        },
        "outputId": "0b416ce3-1cfc-460d-bd61-ce79a68e31b0"
      },
      "execution_count": 22,
      "outputs": [
        {
          "output_type": "error",
          "ename": "TypeError",
          "evalue": "ignored",
          "traceback": [
            "\u001b[0;31m---------------------------------------------------------------------------\u001b[0m",
            "\u001b[0;31mTypeError\u001b[0m                                 Traceback (most recent call last)",
            "\u001b[0;32m<ipython-input-22-4c874813e2cb>\u001b[0m in \u001b[0;36m<module>\u001b[0;34m\u001b[0m\n\u001b[1;32m     69\u001b[0m \u001b[0;32mfor\u001b[0m \u001b[0mi\u001b[0m \u001b[0;32min\u001b[0m \u001b[0mrange\u001b[0m\u001b[0;34m(\u001b[0m\u001b[0mnb_tasks\u001b[0m\u001b[0;34m)\u001b[0m\u001b[0;34m:\u001b[0m\u001b[0;34m\u001b[0m\u001b[0;34m\u001b[0m\u001b[0m\n\u001b[1;32m     70\u001b[0m     \u001b[0;31m# Constraint on completion time of task i\u001b[0m\u001b[0;34m\u001b[0m\u001b[0;34m\u001b[0m\u001b[0;34m\u001b[0m\u001b[0m\n\u001b[0;32m---> 71\u001b[0;31m   \u001b[0mmodel\u001b[0m\u001b[0;34m.\u001b[0m\u001b[0maddConstr\u001b[0m\u001b[0;34m(\u001b[0m\u001b[0mstart\u001b[0m\u001b[0;34m[\u001b[0m\u001b[0mi\u001b[0m\u001b[0;34m]\u001b[0m \u001b[0;34m+\u001b[0m \u001b[0mcompletion_time\u001b[0m\u001b[0;34m[\u001b[0m\u001b[0mi\u001b[0m\u001b[0;34m]\u001b[0m \u001b[0;34m+\u001b[0m \u001b[0mtasks\u001b[0m\u001b[0;34m[\u001b[0m\u001b[0mi\u001b[0m\u001b[0;34m]\u001b[0m\u001b[0;34m[\u001b[0m\u001b[0;34m\"processing_time\"\u001b[0m\u001b[0;34m]\u001b[0m \u001b[0;34m==\u001b[0m \u001b[0mcompletion_time\u001b[0m\u001b[0;34m[\u001b[0m\u001b[0mi\u001b[0m\u001b[0;34m]\u001b[0m\u001b[0;34m)\u001b[0m\u001b[0;34m\u001b[0m\u001b[0;34m\u001b[0m\u001b[0m\n\u001b[0m\u001b[1;32m     72\u001b[0m \u001b[0;34m\u001b[0m\u001b[0m\n\u001b[1;32m     73\u001b[0m \u001b[0;31m# Add constraints\u001b[0m\u001b[0;34m\u001b[0m\u001b[0;34m\u001b[0m\u001b[0;34m\u001b[0m\u001b[0m\n",
            "\u001b[0;31mTypeError\u001b[0m: 'gurobipy.LinExpr' object is not subscriptable"
          ]
        }
      ]
    },
    {
      "cell_type": "code",
      "source": [],
      "metadata": {
        "id": "rqT-uQ8QAotX"
      },
      "execution_count": null,
      "outputs": []
    }
  ]
}